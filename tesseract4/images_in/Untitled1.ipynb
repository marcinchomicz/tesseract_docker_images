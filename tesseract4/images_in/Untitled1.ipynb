{
 "cells": [
  {
   "cell_type": "code",
   "execution_count": 1,
   "id": "a5db7ec3-df31-4aab-89ec-f2b9781175ea",
   "metadata": {
    "tags": []
   },
   "outputs": [],
   "source": [
    "import cv2 \n",
    "import pytesseract\n"
   ]
  },
  {
   "cell_type": "code",
   "execution_count": 10,
   "id": "58820f2e-305d-4163-b733-8277f9de0751",
   "metadata": {
    "tags": []
   },
   "outputs": [
    {
     "name": "stdout",
     "output_type": "stream",
     "text": [
      "tesseract 4.1.1\n",
      " leptonica-1.79.0\n",
      "  libgif 5.1.4 : libjpeg 8d (libjpeg-turbo 2.0.3) : libpng 1.6.37 : libtiff 4.1.0 : zlib 1.2.11 : libwebp 0.6.1 : libopenjp2 2.3.1\n",
      " Found AVX2\n",
      " Found AVX\n",
      " Found FMA\n",
      " Found SSE\n",
      " Found libarchive 3.4.0 zlib/1.2.11 liblzma/5.2.4 bz2lib/1.0.8 liblz4/1.9.2 libzstd/1.4.4\n"
     ]
    }
   ],
   "source": [
    "!tesseract --version"
   ]
  },
  {
   "cell_type": "code",
   "execution_count": 2,
   "id": "295f57b6-6aee-4dee-bdce-0b796eabb29f",
   "metadata": {
    "tags": []
   },
   "outputs": [
    {
     "name": "stdout",
     "output_type": "stream",
     "text": [
      "/home/images_in\n"
     ]
    }
   ],
   "source": [
    "!pwd"
   ]
  },
  {
   "cell_type": "code",
   "execution_count": 8,
   "id": "f192d001-1d8e-442a-8602-d724b0666304",
   "metadata": {
    "tags": []
   },
   "outputs": [],
   "source": [
    "\n",
    "img = cv2.imread('/home/images_in/Formularz_o_wiadczenia_woli_Klienta_(zgody)_1_.jpg')\n",
    "\n",
    "# Adding custom options\n",
    "custom_config = r'--oem 3 --psm 6'\n",
    "result = pytesseract.image_to_string(img, config=custom_config, lang='pol')"
   ]
  },
  {
   "cell_type": "code",
   "execution_count": 9,
   "id": "2d78ad7a-7d66-47b5-ad02-e405b08e5cb2",
   "metadata": {
    "tags": []
   },
   "outputs": [
    {
     "name": "stdout",
     "output_type": "stream",
     "text": [
      "6. Zgoda na wykorzystano danych o mojej lokalizacji w colu świadczenia usług o wartości wzbogaconej\n",
      "Po wyrażeniu tej zgody, będziemy mogli świadczyć CI usług, do których niezbędne jest wykorzystanie informacji O miejscu, w któym\n",
      "aktucne sę znajdujesz np informacje O najbiższym bankomacie, pomocy medyczne, punktach gastronomicznych.\n",
      "[O ]eremagce [_Jeewrsżnagcy\n",
      "7. Zgoda na wykorzystanie przez Orango Polska S.A. moich danych osobowych w oslach merketngowych inych podmiotów z Grupy\n",
      "Kapitałowej Orango Polska oraz współpracujących z Orange Polska S.A.\n",
      "wyrażona zgoda pozwoli nam przedstawiać Gi produkty i usługi pozostałych frm z GK Orange Polska oraz frm współpracujących\n",
      "(świadczących mn. uskugi finansowe, bankowe, ubezpieczeniowe), Twoje dane nie będą udostępniane innym fimom a oferta będzie\n",
      "prezentowana przez Orange Polska S.A\n",
      "[wraże zgodę [| nie wyrażam zgody\n",
      "8. Zgoda na udostępnianie moich danych osobowych Innym podmiotom wchodzącym w sklad Grupy Kapitałowej Orange Polska.\n",
      "wyrażona zgoda pozwoli nam udostępniać Twoje dane kontaktowe (l. imię, nazwisko, adres miejsca zamieszkania, adres\n",
      "korespondencyjny, O le jest inny niż adres miejsca zamieszkariaj innym mom z GK Orange Polska (np. AMSAT SA, TP TELTECH, TP\n",
      "EDUKACJA I WYPOCZYNEK - EPLORIS), aby samodzienie mogły przedstawiać Ci swoje produkty usu\n",
      "[ORSRO [Jimi\n",
      "9. Zgoda na zamieszczenie moich danych osobowych w spisach abonentów biurze numerów.\n",
      "Wrażona zgoda pozwol zamieścić w spisie abonentów oraz wykorzystać na potrzeby innych usług informacyjnych następujące dane:\n",
      "mię i nazwisko,\n",
      "numer telefonu,\n",
      "nazwę miejscowości oraz ui\n",
      "W każdym momencie możesz zmodyfikować swoje dane.\n",
      "(nrieeon. | Jee | Jee JO]\n",
      "reereiej esicy jeno] flopy | Jerkeoyyio papiery\n",
      "5 MjSGoWOSE A TT TT BOGA\n",
      "Orange Polska S.A. pwana clj Orange siedzibą w Warszawie prz A Jefozokmsih 160, arms, że\n",
      "\"st aiisratorem danych osobowych swoch Abonentów\n",
      "W oesie cbowązywana umowylumów o świadczenie pubieznie dostępnych usg teekamunkacjnych a po jeffch zakończeniu - w okre\n",
      "oonoczena roszczeń wyniaących z umowy, al eż wykonana ych Zadań przewidzianych w ustawa - Prawo tellkamunkacyne ub przegsach\n",
      "crębnych, przetwarza can osobowe Abonentów w ceach wynkaących Z ustawy - Po taekomunikacjne ub przepisów odrębnych w tym\n",
      "nia ae naemay + tanio (9 Gazety ws © rr zek | Tagoninów) oe Sona, sra CIĘ toz pr Kac\n",
      "komunikatów w sieciach telskomunkacynch. nczania opłat Aboneria Graz lał i toczeń międzyopostarskch (dane danamieljci\n",
      "Abonent wytai zgodę, dotyczące go den raramsyne, w okasie obowiązywania którjkliek Z umów o świadczenia usu tlekomunikacynych\n",
      "zawarych z Orange, obowiązujących w oni wyrażenia zgody ub zawartych po takm oru. przetwarzane będą również la celów marks gu usu\n",
      "śeekomunkacynych\n",
      "- - a zgodą Abonema jo dane oscbowe przetwarzane będ również w celu minu produktów i usług spółek wohodzących w sklad Grupy\n",
      "Kapialowej Orange Polska oraz współracujących z Orange, ak eż, w aks obejmującym im, nazwisko, adres misce zameszłana i reż\n",
      "karesponderoyjny. o l jestiny rż aden mijsa zamieszki, dą spółkom z GK Orango Flsa udoslpnano\n",
      "- _ Abonemma prawo dostępu do reściowch Ganych przetwarzanych rzez Orango o do ch poprawiania\n",
      "- przetwarzanie danych Gsobowych w Gel ealaci umowyjumów o świadczenie pubicznie dostępnych usg telskomnkacyjnych, w zakre\n",
      "Gbejmuącym nazwiko | iena, mena rodziców, mec idę urodzenia, aces miejsca Zameszkana aren ktresponcencyny (eż jst my niż\n",
      "ces miejsca zameszkani) numer owidencyny PESEL, nazwę, se irumer dokumentów powierszących tożsamość, w przypadku cudzczemca\n",
      "\"wór m est obywateem państwa cznkawsiego ab Konederacj Szwajcarskiej - numer paszporu lb katy pok, oraz niormace zawarte w\n",
      "ie p a er oł z py eo\n",
      "umowy o świadczenie usg tekkomunkacynych, ne wymaga zgody Abonent | wynka z at. 16? ust 2 ustały - Prato tekamunikacjne\n",
      "przetwarzanie nych niż u: Carych osobowych ymaga go Abonema\n",
      "4 spodu Kryta la us ok oych, dr g PROT, de com dów pr dys oi nóg\n",
      "wyszukania numerów teaonów Abonentów Orange. Sp abonentów udostępniany est w formie książkowej I letroicznj. Użyskriu poszukiwanych\n",
      "mumerów tefoicznych suży rówież świadczona przez Orange uga udzelaia nformac o numerach tlefonkznych\n",
      "\"Tałim samym com ek wyżej wskazane Su usługa ogólnokrajowego spisu abonentów usługa ogórokrjowej rormecj rumerch tefoienych.\n",
      "Dans Abonentów sę udosłepnane mym przedsiąircom tlkomunikacjfym prowadzącym spisy sbonentów lb świadczącym usługę riormacji o\n",
      "umerac taefoicznych maącym sz w państwach rażących do Europejskiego Obszaru Gospoderczego w eu ubie Spis świadczenia usu\n",
      "normac o numerach tafonczrych na teyofum Elrcpejskego Ooszaru Capodarszego. W odniesieniu de Abner będących osobam: fzycznymi\n",
      "udostępniana są dane wyłączne tych Abonentów, Mórzy wyraz zgodę na umeszczene idnyfkjących ch danych w Spach abonentów oraz ch\n",
      "udostępnianie w ramach uskginormacj a mumerach telefonicznych\n",
      "Sans deniyikacjjne kypehia rane)\n",
      "rumer dentytkacyny Grange eee JO]\n",
      "223\n",
      "\f",
      "\n"
     ]
    }
   ],
   "source": [
    "print(result)"
   ]
  },
  {
   "cell_type": "code",
   "execution_count": 3,
   "id": "3b0f1f08-e7d9-49fc-a39f-c43071856b49",
   "metadata": {
    "tags": []
   },
   "outputs": [
    {
     "name": "stdout",
     "output_type": "stream",
     "text": [
      "tesseract 4.1.1\n",
      " leptonica-1.79.0\n",
      "  libgif 5.1.4 : libjpeg 8d (libjpeg-turbo 2.0.3) : libpng 1.6.37 : libtiff 4.1.0 : zlib 1.2.11 : libwebp 0.6.1 : libopenjp2 2.3.1\n",
      " Found AVX2\n",
      " Found AVX\n",
      " Found FMA\n",
      " Found SSE\n",
      " Found libarchive 3.4.0 zlib/1.2.11 liblzma/5.2.4 bz2lib/1.0.8 liblz4/1.9.2 libzstd/1.4.4\n"
     ]
    }
   ],
   "source": [
    "!tesseract --version"
   ]
  },
  {
   "cell_type": "code",
   "execution_count": null,
   "id": "8c6ddbc6-2dd3-474d-8deb-7dfa407fc2a9",
   "metadata": {},
   "outputs": [],
   "source": []
  }
 ],
 "metadata": {
  "kernelspec": {
   "display_name": "Python 3 (ipykernel)",
   "language": "python",
   "name": "python3"
  },
  "language_info": {
   "codemirror_mode": {
    "name": "ipython",
    "version": 3
   },
   "file_extension": ".py",
   "mimetype": "text/x-python",
   "name": "python",
   "nbconvert_exporter": "python",
   "pygments_lexer": "ipython3",
   "version": "3.8.10"
  }
 },
 "nbformat": 4,
 "nbformat_minor": 5
}
